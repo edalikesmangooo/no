{
 "cells": [
  {
   "cell_type": "code",
   "execution_count": 1,
   "metadata": {},
   "outputs": [],
   "source": [
    "from gensim import models, similarities, corpora\n",
    "import nltk\n",
    "#import sys\n",
    "import altair as alt\n",
    "import pandas as pd\n",
    "import matplotlib.pyplot as plt\n",
    "from sklearn.manifold import TSNE\n",
    "from sklearn.decomposition import PCA"
   ]
  },
  {
   "cell_type": "code",
   "execution_count": 2,
   "metadata": {},
   "outputs": [
    {
     "name": "stderr",
     "output_type": "stream",
     "text": [
      "/anaconda3/lib/python3.6/site-packages/ipykernel_launcher.py:15: DeprecationWarning: Call to deprecated `__getitem__` (Method will be removed in 4.0.0, use self.wv.__getitem__() instead).\n",
      "  from ipykernel import kernelapp as app\n"
     ]
    },
    {
     "ename": "KeyError",
     "evalue": "\"word 'beechbone' not in vocabulary\"",
     "output_type": "error",
     "traceback": [
      "\u001b[0;31m---------------------------------------------------------------------------\u001b[0m",
      "\u001b[0;31mKeyError\u001b[0m                                  Traceback (most recent call last)",
      "\u001b[0;32m<ipython-input-2-8977ef8cdcad>\u001b[0m in \u001b[0;36m<module>\u001b[0;34m()\u001b[0m\n\u001b[1;32m     13\u001b[0m \u001b[0;31m# print (a)\u001b[0m\u001b[0;34m\u001b[0m\u001b[0;34m\u001b[0m\u001b[0m\n\u001b[1;32m     14\u001b[0m \u001b[0;34m\u001b[0m\u001b[0m\n\u001b[0;32m---> 15\u001b[0;31m \u001b[0mf\u001b[0m \u001b[0;34m=\u001b[0m \u001b[0mw2vmodel\u001b[0m\u001b[0;34m[\u001b[0m\u001b[0;34m'aragorn'\u001b[0m\u001b[0;34m,\u001b[0m \u001b[0;34m'arwen'\u001b[0m\u001b[0;34m,\u001b[0m \u001b[0;34m'baggins'\u001b[0m\u001b[0;34m,\u001b[0m \u001b[0;34m'bilbo'\u001b[0m\u001b[0;34m,\u001b[0m \u001b[0;34m'frodo'\u001b[0m\u001b[0;34m,\u001b[0m \u001b[0;34m'barliman'\u001b[0m\u001b[0;34m,\u001b[0m \u001b[0;34m'beechbone'\u001b[0m\u001b[0;34m,\u001b[0m \u001b[0;34m'beregond'\u001b[0m\u001b[0;34m,\u001b[0m \u001b[0;34m'bergil'\u001b[0m\u001b[0;34m,\u001b[0m \u001b[0;34m'fredegar'\u001b[0m\u001b[0;34m,\u001b[0m \u001b[0;34m'tom'\u001b[0m\u001b[0;34m,\u001b[0m \u001b[0;34m'boromir'\u001b[0m\u001b[0;34m,\u001b[0m \u001b[0;34m'meriadoc'\u001b[0m\u001b[0;34m,\u001b[0m \u001b[0;34m'bregalad'\u001b[0m\u001b[0;34m,\u001b[0m \u001b[0;34m'celeborn'\u001b[0m\u001b[0;34m,\u001b[0m \u001b[0;34m'círdan'\u001b[0m\u001b[0;34m,\u001b[0m \u001b[0;34m'denethor'\u001b[0m\u001b[0;34m,\u001b[0m \u001b[0;34m'elfhelm'\u001b[0m\u001b[0;34m,\u001b[0m \u001b[0;34m'elladan'\u001b[0m\u001b[0;34m,\u001b[0m \u001b[0;34m'elrond'\u001b[0m\u001b[0;34m,\u001b[0m \u001b[0;34m'eomer'\u001b[0m\u001b[0;34m,\u001b[0m \u001b[0;34m'eomund'\u001b[0m\u001b[0;34m,\u001b[0m \u001b[0;34m'eothain'\u001b[0m\u001b[0;34m,\u001b[0m \u001b[0;34m'eowyn'\u001b[0m\u001b[0;34m,\u001b[0m \u001b[0;34m'erestor'\u001b[0m\u001b[0;34m,\u001b[0m \u001b[0;34m'erkenbrand'\u001b[0m\u001b[0;34m,\u001b[0m \u001b[0;34m'faramir'\u001b[0m\u001b[0;34m,\u001b[0m \u001b[0;34m'fellowship'\u001b[0m\u001b[0;34m,\u001b[0m \u001b[0;34m'forlong'\u001b[0m\u001b[0;34m,\u001b[0m \u001b[0;34m'galadriel'\u001b[0m\u001b[0;34m,\u001b[0m \u001b[0;34m'hamfast'\u001b[0m\u001b[0;34m,\u001b[0m \u001b[0;34m'samwise'\u001b[0m\u001b[0;34m,\u001b[0m \u001b[0;34m'gamling'\u001b[0m\u001b[0;34m,\u001b[0m \u001b[0;34m'gandalf'\u001b[0m\u001b[0;34m,\u001b[0m \u001b[0;34m'ghân-buri-ghân'\u001b[0m\u001b[0;34m,\u001b[0m \u001b[0;34m'gildor'\u001b[0m\u001b[0;34m,\u001b[0m \u001b[0;34m'gimli'\u001b[0m\u001b[0;34m,\u001b[0m \u001b[0;34m'glorfindel'\u001b[0m\u001b[0;34m,\u001b[0m \u001b[0;34m'goldberry'\u001b[0m\u001b[0;34m,\u001b[0m \u001b[0;34m'gollum'\u001b[0m\u001b[0;34m,\u001b[0m \u001b[0;34m'gothmog'\u001b[0m\u001b[0;34m,\u001b[0m \u001b[0;34m'gríma'\u001b[0m\u001b[0;34m,\u001b[0m \u001b[0;34m'grimbold'\u001b[0m\u001b[0;34m,\u001b[0m \u001b[0;34m'haldir'\u001b[0m\u001b[0;34m,\u001b[0m \u001b[0;34m'hama'\u001b[0m\u001b[0;34m,\u001b[0m \u001b[0;34m'hurin'\u001b[0m\u001b[0;34m,\u001b[0m \u001b[0;34m'isildur'\u001b[0m\u001b[0;34m,\u001b[0m \u001b[0;34m'legolas'\u001b[0m\u001b[0;34m,\u001b[0m \u001b[0;34m'nazgul'\u001b[0m\u001b[0;34m,\u001b[0m \u001b[0;34m'orophin'\u001b[0m\u001b[0;34m,\u001b[0m \u001b[0;34m'radagast'\u001b[0m\u001b[0;34m,\u001b[0m \u001b[0;34m'saruman'\u001b[0m\u001b[0;34m,\u001b[0m \u001b[0;34m'sauron'\u001b[0m\u001b[0;34m,\u001b[0m \u001b[0;34m'shelob'\u001b[0m\u001b[0;34m,\u001b[0m \u001b[0;34m'theoden'\u001b[0m\u001b[0;34m,\u001b[0m \u001b[0;34m'theodred'\u001b[0m\u001b[0;34m,\u001b[0m \u001b[0;34m'peregrin'\u001b[0m\u001b[0;34m,\u001b[0m \u001b[0;34m'treebeard'\u001b[0m\u001b[0;34m]\u001b[0m\u001b[0;34m\u001b[0m\u001b[0m\n\u001b[0m",
      "\u001b[0;32m/anaconda3/lib/python3.6/site-packages/gensim/utils.py\u001b[0m in \u001b[0;36mnew_func1\u001b[0;34m(*args, **kwargs)\u001b[0m\n\u001b[1;32m   1420\u001b[0m                     \u001b[0mstacklevel\u001b[0m\u001b[0;34m=\u001b[0m\u001b[0;36m2\u001b[0m\u001b[0;34m\u001b[0m\u001b[0m\n\u001b[1;32m   1421\u001b[0m                 )\n\u001b[0;32m-> 1422\u001b[0;31m                 \u001b[0;32mreturn\u001b[0m \u001b[0mfunc\u001b[0m\u001b[0;34m(\u001b[0m\u001b[0;34m*\u001b[0m\u001b[0margs\u001b[0m\u001b[0;34m,\u001b[0m \u001b[0;34m**\u001b[0m\u001b[0mkwargs\u001b[0m\u001b[0;34m)\u001b[0m\u001b[0;34m\u001b[0m\u001b[0m\n\u001b[0m\u001b[1;32m   1423\u001b[0m \u001b[0;34m\u001b[0m\u001b[0m\n\u001b[1;32m   1424\u001b[0m             \u001b[0;32mreturn\u001b[0m \u001b[0mnew_func1\u001b[0m\u001b[0;34m\u001b[0m\u001b[0m\n",
      "\u001b[0;32m/anaconda3/lib/python3.6/site-packages/gensim/models/word2vec.py\u001b[0m in \u001b[0;36m__getitem__\u001b[0;34m(self, words)\u001b[0m\n\u001b[1;32m   1101\u001b[0m \u001b[0;34m\u001b[0m\u001b[0m\n\u001b[1;32m   1102\u001b[0m         \"\"\"\n\u001b[0;32m-> 1103\u001b[0;31m         \u001b[0;32mreturn\u001b[0m \u001b[0mself\u001b[0m\u001b[0;34m.\u001b[0m\u001b[0mwv\u001b[0m\u001b[0;34m.\u001b[0m\u001b[0m__getitem__\u001b[0m\u001b[0;34m(\u001b[0m\u001b[0mwords\u001b[0m\u001b[0;34m)\u001b[0m\u001b[0;34m\u001b[0m\u001b[0m\n\u001b[0m\u001b[1;32m   1104\u001b[0m \u001b[0;34m\u001b[0m\u001b[0m\n\u001b[1;32m   1105\u001b[0m     \u001b[0;34m@\u001b[0m\u001b[0mdeprecated\u001b[0m\u001b[0;34m(\u001b[0m\u001b[0;34m\"Method will be removed in 4.0.0, use self.wv.__contains__() instead\"\u001b[0m\u001b[0;34m)\u001b[0m\u001b[0;34m\u001b[0m\u001b[0m\n",
      "\u001b[0;32m/anaconda3/lib/python3.6/site-packages/gensim/models/keyedvectors.py\u001b[0m in \u001b[0;36m__getitem__\u001b[0;34m(self, entities)\u001b[0m\n\u001b[1;32m    337\u001b[0m             \u001b[0;32mreturn\u001b[0m \u001b[0mself\u001b[0m\u001b[0;34m.\u001b[0m\u001b[0mget_vector\u001b[0m\u001b[0;34m(\u001b[0m\u001b[0mentities\u001b[0m\u001b[0;34m)\u001b[0m\u001b[0;34m\u001b[0m\u001b[0m\n\u001b[1;32m    338\u001b[0m \u001b[0;34m\u001b[0m\u001b[0m\n\u001b[0;32m--> 339\u001b[0;31m         \u001b[0;32mreturn\u001b[0m \u001b[0mvstack\u001b[0m\u001b[0;34m(\u001b[0m\u001b[0;34m[\u001b[0m\u001b[0mself\u001b[0m\u001b[0;34m.\u001b[0m\u001b[0mget_vector\u001b[0m\u001b[0;34m(\u001b[0m\u001b[0mentity\u001b[0m\u001b[0;34m)\u001b[0m \u001b[0;32mfor\u001b[0m \u001b[0mentity\u001b[0m \u001b[0;32min\u001b[0m \u001b[0mentities\u001b[0m\u001b[0;34m]\u001b[0m\u001b[0;34m)\u001b[0m\u001b[0;34m\u001b[0m\u001b[0m\n\u001b[0m\u001b[1;32m    340\u001b[0m \u001b[0;34m\u001b[0m\u001b[0m\n\u001b[1;32m    341\u001b[0m     \u001b[0;32mdef\u001b[0m \u001b[0m__contains__\u001b[0m\u001b[0;34m(\u001b[0m\u001b[0mself\u001b[0m\u001b[0;34m,\u001b[0m \u001b[0mentity\u001b[0m\u001b[0;34m)\u001b[0m\u001b[0;34m:\u001b[0m\u001b[0;34m\u001b[0m\u001b[0m\n",
      "\u001b[0;32m/anaconda3/lib/python3.6/site-packages/gensim/models/keyedvectors.py\u001b[0m in \u001b[0;36m<listcomp>\u001b[0;34m(.0)\u001b[0m\n\u001b[1;32m    337\u001b[0m             \u001b[0;32mreturn\u001b[0m \u001b[0mself\u001b[0m\u001b[0;34m.\u001b[0m\u001b[0mget_vector\u001b[0m\u001b[0;34m(\u001b[0m\u001b[0mentities\u001b[0m\u001b[0;34m)\u001b[0m\u001b[0;34m\u001b[0m\u001b[0m\n\u001b[1;32m    338\u001b[0m \u001b[0;34m\u001b[0m\u001b[0m\n\u001b[0;32m--> 339\u001b[0;31m         \u001b[0;32mreturn\u001b[0m \u001b[0mvstack\u001b[0m\u001b[0;34m(\u001b[0m\u001b[0;34m[\u001b[0m\u001b[0mself\u001b[0m\u001b[0;34m.\u001b[0m\u001b[0mget_vector\u001b[0m\u001b[0;34m(\u001b[0m\u001b[0mentity\u001b[0m\u001b[0;34m)\u001b[0m \u001b[0;32mfor\u001b[0m \u001b[0mentity\u001b[0m \u001b[0;32min\u001b[0m \u001b[0mentities\u001b[0m\u001b[0;34m]\u001b[0m\u001b[0;34m)\u001b[0m\u001b[0;34m\u001b[0m\u001b[0m\n\u001b[0m\u001b[1;32m    340\u001b[0m \u001b[0;34m\u001b[0m\u001b[0m\n\u001b[1;32m    341\u001b[0m     \u001b[0;32mdef\u001b[0m \u001b[0m__contains__\u001b[0m\u001b[0;34m(\u001b[0m\u001b[0mself\u001b[0m\u001b[0;34m,\u001b[0m \u001b[0mentity\u001b[0m\u001b[0;34m)\u001b[0m\u001b[0;34m:\u001b[0m\u001b[0;34m\u001b[0m\u001b[0m\n",
      "\u001b[0;32m/anaconda3/lib/python3.6/site-packages/gensim/models/keyedvectors.py\u001b[0m in \u001b[0;36mget_vector\u001b[0;34m(self, word)\u001b[0m\n\u001b[1;32m    453\u001b[0m \u001b[0;34m\u001b[0m\u001b[0m\n\u001b[1;32m    454\u001b[0m     \u001b[0;32mdef\u001b[0m \u001b[0mget_vector\u001b[0m\u001b[0;34m(\u001b[0m\u001b[0mself\u001b[0m\u001b[0;34m,\u001b[0m \u001b[0mword\u001b[0m\u001b[0;34m)\u001b[0m\u001b[0;34m:\u001b[0m\u001b[0;34m\u001b[0m\u001b[0m\n\u001b[0;32m--> 455\u001b[0;31m         \u001b[0;32mreturn\u001b[0m \u001b[0mself\u001b[0m\u001b[0;34m.\u001b[0m\u001b[0mword_vec\u001b[0m\u001b[0;34m(\u001b[0m\u001b[0mword\u001b[0m\u001b[0;34m)\u001b[0m\u001b[0;34m\u001b[0m\u001b[0m\n\u001b[0m\u001b[1;32m    456\u001b[0m \u001b[0;34m\u001b[0m\u001b[0m\n\u001b[1;32m    457\u001b[0m     \u001b[0;32mdef\u001b[0m \u001b[0mwords_closer_than\u001b[0m\u001b[0;34m(\u001b[0m\u001b[0mself\u001b[0m\u001b[0;34m,\u001b[0m \u001b[0mw1\u001b[0m\u001b[0;34m,\u001b[0m \u001b[0mw2\u001b[0m\u001b[0;34m)\u001b[0m\u001b[0;34m:\u001b[0m\u001b[0;34m\u001b[0m\u001b[0m\n",
      "\u001b[0;32m/anaconda3/lib/python3.6/site-packages/gensim/models/keyedvectors.py\u001b[0m in \u001b[0;36mword_vec\u001b[0;34m(self, word, use_norm)\u001b[0m\n\u001b[1;32m    450\u001b[0m             \u001b[0;32mreturn\u001b[0m \u001b[0mresult\u001b[0m\u001b[0;34m\u001b[0m\u001b[0m\n\u001b[1;32m    451\u001b[0m         \u001b[0;32melse\u001b[0m\u001b[0;34m:\u001b[0m\u001b[0;34m\u001b[0m\u001b[0m\n\u001b[0;32m--> 452\u001b[0;31m             \u001b[0;32mraise\u001b[0m \u001b[0mKeyError\u001b[0m\u001b[0;34m(\u001b[0m\u001b[0;34m\"word '%s' not in vocabulary\"\u001b[0m \u001b[0;34m%\u001b[0m \u001b[0mword\u001b[0m\u001b[0;34m)\u001b[0m\u001b[0;34m\u001b[0m\u001b[0m\n\u001b[0m\u001b[1;32m    453\u001b[0m \u001b[0;34m\u001b[0m\u001b[0m\n\u001b[1;32m    454\u001b[0m     \u001b[0;32mdef\u001b[0m \u001b[0mget_vector\u001b[0m\u001b[0;34m(\u001b[0m\u001b[0mself\u001b[0m\u001b[0;34m,\u001b[0m \u001b[0mword\u001b[0m\u001b[0;34m)\u001b[0m\u001b[0;34m:\u001b[0m\u001b[0;34m\u001b[0m\u001b[0m\n",
      "\u001b[0;31mKeyError\u001b[0m: \"word 'beechbone' not in vocabulary\""
     ]
    }
   ],
   "source": [
    "raw_lotr = open(\"./lotr-ascii.txt\").read()\n",
    "s = nltk.sent_tokenize(raw_lotr)\n",
    "w = [nltk.word_tokenize (sentence)for sentence in s]\n",
    "#w = nltk.word_tokenize(raw_lotr)\n",
    "lcw= [[word.lower() for word in sentence] for sentence in w]\n",
    "w2vmodel = models.Word2Vec(lcw, min_count=1)\n",
    "#n=w2vmodel[\"aragorn\",\"arwen\",\"baggins\",\"bilbo\"]\n",
    "#print (n)\n",
    "\n",
    "\n",
    "# n = [\"Aragorn\",\"Arwen\",\"Baggins\",\"Bilbo\",\"Frodo\",\"Barliman\",\"Beechbone\",\"Beregond\",\"Bergil\",\"Fredegar\",\"Tom\",\"Boromir\",\"Meriadoc\",\"Bregalad\",\"Celeborn\",\"Círdan\",\"Denethor\",\"Elfhelm\",\"Elladan\",\"Elrond\",\"Eomer\",\"Eomund\",\"Eothain\",\"Eowyn\",\"Erestor\",\"Erkenbrand\",\"Faramir\",\"Fellowship\",\"Forlong\",\"Galadriel\",\"Hamfast\",\"Samwise\",\"Gamling\",\"Gandalf\",\"Ghân-buri-Ghân\",\"Gildor\",\"Gimli\",\"Glorfindel\",\"Goldberry\",\"Gollum\",\"Gothmog\",\"Gríma\",\"Grimbold\",\"Haldir\",\"Hama\",\"Hurin\",\"Isildur\",\"Legolas\",\"Nazgul\",\"Orophin\",\"Radagast\",\"Saruman\",\"Sauron\",\"Shelob\",\"Theoden\",\"Theodred\",\"Peregrin\",\"Treebeard\"]\n",
    "# a = [x.lower() for x in i]\n",
    "# print (a)\n",
    "\n",
    "f = w2vmodel['aragorn', 'arwen', 'baggins', 'bilbo', 'frodo', 'barliman', 'beechbone', 'beregond', 'bergil', 'fredegar', 'tom', 'boromir', 'meriadoc', 'bregalad', 'celeborn', 'círdan', 'denethor', 'elfhelm', 'elladan', 'elrond', 'eomer', 'eomund', 'eothain', 'eowyn', 'erestor', 'erkenbrand', 'faramir', 'fellowship', 'forlong', 'galadriel', 'hamfast', 'samwise', 'gamling', 'gandalf', 'ghân-buri-ghân', 'gildor', 'gimli', 'glorfindel', 'goldberry', 'gollum', 'gothmog', 'gríma', 'grimbold', 'haldir', 'hama', 'hurin', 'isildur', 'legolas', 'nazgul', 'orophin', 'radagast', 'saruman', 'sauron', 'shelob', 'theoden', 'theodred', 'peregrin', 'treebeard']"
   ]
  },
  {
   "cell_type": "code",
   "execution_count": null,
   "metadata": {},
   "outputs": [],
   "source": [
    "from sklearn.cluster import MiniBatchKMeans\n",
    "from sklearn import preprocessing\n",
    "\n",
    "# le = preprocessing.LabelEncoder()\n",
    "# for w in range(len(i)):\n",
    "#     i[:,w] = le.fit_transform(i[:,w])\n",
    "    \n",
    "# tsne = TSNE(n_components=2)\n",
    "# i_tsne = tsne.fit_transform(i)\n",
    "kmeans = MiniBatchKMeans(n_clusters=5).fit_predict(f)\n",
    "print(\"kMeans - # clusters: {:}\".format(len(set(kmeans))))\n",
    "\n",
    "plt.scatter(f_tsne[:, 0], f_tsne[:, 1],c=kmeans)\n",
    "plt.show()\n"
   ]
  }
 ],
 "metadata": {
  "kernelspec": {
   "display_name": "Python 3",
   "language": "python",
   "name": "python3"
  },
  "language_info": {
   "codemirror_mode": {
    "name": "ipython",
    "version": 3
   },
   "file_extension": ".py",
   "mimetype": "text/x-python",
   "name": "python",
   "nbconvert_exporter": "python",
   "pygments_lexer": "ipython3",
   "version": "3.6.5"
  }
 },
 "nbformat": 4,
 "nbformat_minor": 2
}
